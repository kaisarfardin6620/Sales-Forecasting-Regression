{
  "nbformat": 4,
  "nbformat_minor": 0,
  "metadata": {
    "colab": {
      "provenance": [],
      "authorship_tag": "ABX9TyPzSnqaUPHoEWP8iKWmbWR2",
      "include_colab_link": true
    },
    "kernelspec": {
      "name": "python3",
      "display_name": "Python 3"
    },
    "language_info": {
      "name": "python"
    }
  },
  "cells": [
    {
      "cell_type": "markdown",
      "metadata": {
        "id": "view-in-github",
        "colab_type": "text"
      },
      "source": [
        "<a href=\"https://colab.research.google.com/github/kaisarfardin6620/Sales-Forecasting-Regression/blob/main/Sales_Forecasting_Regression.ipynb\" target=\"_parent\"><img src=\"https://colab.research.google.com/assets/colab-badge.svg\" alt=\"Open In Colab\"/></a>"
      ]
    },
    {
      "cell_type": "code",
      "execution_count": null,
      "metadata": {
        "collapsed": true,
        "id": "6imZ69m1CmzM"
      },
      "outputs": [],
      "source": [
        "!pip install pycaret[full]\n",
        "!pip install pycaret[mlops]\n",
        "!pip install pycaret[time-series]"
      ]
    },
    {
      "cell_type": "code",
      "source": [
        "import pandas as pd\n",
        "import matplotlib.pyplot as plt\n",
        "import seaborn as sns\n",
        "from sklearn.model_selection import train_test_split, GridSearchCV\n",
        "from sklearn.linear_model import LinearRegression\n",
        "from sklearn.tree import DecisionTreeRegressor\n",
        "from sklearn.ensemble import RandomForestRegressor\n",
        "from sklearn.svm import SVR\n",
        "from sklearn.neighbors import KNeighborsRegressor\n",
        "from sklearn.metrics import r2_score, mean_absolute_error, mean_squared_error\n",
        "from sklearn.preprocessing import OneHotEncoder\n",
        "from sklearn.compose import ColumnTransformer\n",
        "from sklearn.pipeline import Pipeline\n",
        "import numpy as np\n",
        "from sklearn.preprocessing import StandardScaler\n",
        "from pycaret.regression import setup, compare_models, create_model, tune_model, evaluate_model, finalize_model"
      ],
      "metadata": {
        "id": "f8uwVYSeCtCk"
      },
      "execution_count": null,
      "outputs": []
    },
    {
      "cell_type": "code",
      "source": [
        "from google.colab import drive\n",
        "drive.mount('/content/drive')"
      ],
      "metadata": {
        "id": "j7pkr5TQCtAK"
      },
      "execution_count": null,
      "outputs": []
    },
    {
      "cell_type": "code",
      "source": [
        "df =  pd.read_csv('/content/drive/MyDrive/Dataset/sales.csv')"
      ],
      "metadata": {
        "id": "WmY00sY0Cs9y"
      },
      "execution_count": null,
      "outputs": []
    },
    {
      "cell_type": "code",
      "source": [
        "df.info()"
      ],
      "metadata": {
        "id": "OSIsPsVmCs2a"
      },
      "execution_count": null,
      "outputs": []
    },
    {
      "cell_type": "code",
      "source": [
        "df.shape"
      ],
      "metadata": {
        "id": "i6vaw3aoCs0C"
      },
      "execution_count": null,
      "outputs": []
    },
    {
      "cell_type": "code",
      "source": [
        "df.describe()"
      ],
      "metadata": {
        "id": "YSDyWly8CsxS"
      },
      "execution_count": null,
      "outputs": []
    },
    {
      "cell_type": "code",
      "source": [
        "df.head(3)"
      ],
      "metadata": {
        "id": "CDQtvMHeCsuq"
      },
      "execution_count": null,
      "outputs": []
    },
    {
      "cell_type": "code",
      "source": [
        "df.tail(3)"
      ],
      "metadata": {
        "id": "saYHGWeQCsry"
      },
      "execution_count": null,
      "outputs": []
    },
    {
      "cell_type": "code",
      "source": [
        "df.isnull().sum()"
      ],
      "metadata": {
        "id": "C8MEEUxWCspJ"
      },
      "execution_count": null,
      "outputs": []
    },
    {
      "cell_type": "code",
      "source": [
        "df.duplicated().sum()"
      ],
      "metadata": {
        "id": "ryzdzLfkCsmi"
      },
      "execution_count": null,
      "outputs": []
    },
    {
      "cell_type": "code",
      "source": [
        "df['Date'] = pd.to_datetime(df['Date'])\n",
        "df['Month'] = df['Date'].dt.month\n",
        "df['Quarter'] = df['Date'].dt.quarter\n",
        "reference_date = df['Date'].min()\n",
        "df['DaysSince'] = (df['Date'] - reference_date).dt.days\n",
        "df['Month_sin'] = np.sin(2 * np.pi * df['Month'] / 12)\n",
        "df['Month_cos'] = np.cos(2 * np.pi * df['Month'] / 12)\n",
        "df['DayOfWeek'] = df['Date'].dt.dayofweek\n",
        "df['IsWeekend'] = df['DayOfWeek'].isin([5, 6]).astype(int)"
      ],
      "metadata": {
        "id": "Q9Im56zECskb"
      },
      "execution_count": null,
      "outputs": []
    },
    {
      "cell_type": "code",
      "source": [
        "df.drop('Date', axis=1, inplace=True)"
      ],
      "metadata": {
        "id": "31DIWSfXCshi"
      },
      "execution_count": null,
      "outputs": []
    },
    {
      "cell_type": "code",
      "source": [
        "df.head(3)"
      ],
      "metadata": {
        "id": "_p9ZONCaCsfK"
      },
      "execution_count": null,
      "outputs": []
    },
    {
      "cell_type": "code",
      "source": [
        "df.hist(figsize=(10, 8))\n",
        "plt.tight_layout()\n",
        "plt.show()"
      ],
      "metadata": {
        "id": "YgqOiMxoCsci"
      },
      "execution_count": null,
      "outputs": []
    },
    {
      "cell_type": "code",
      "source": [
        "sns.pairplot(df)\n",
        "plt.suptitle(\"Scatter Plot Matrix\", y=1.02)\n",
        "plt.tight_layout()\n",
        "plt.show()"
      ],
      "metadata": {
        "id": "mbJndvejCsaC"
      },
      "execution_count": null,
      "outputs": []
    },
    {
      "cell_type": "code",
      "source": [
        "plt.figure(figsize=(12, 6))\n",
        "sns.boxplot(data=df)\n",
        "plt.title(\"Box Plots of Numerical Features\")\n",
        "plt.xticks(rotation=45, ha='right')\n",
        "plt.tight_layout()\n",
        "plt.show()"
      ],
      "metadata": {
        "id": "viWicsqyCsXa"
      },
      "execution_count": null,
      "outputs": []
    },
    {
      "cell_type": "code",
      "source": [
        "plt.figure(figsize=(12, 6))\n",
        "sns.violinplot(data=df)\n",
        "plt.title(\"Violin Plots of Numerical Features\")\n",
        "plt.xticks(rotation=45, ha='right')\n",
        "plt.tight_layout()\n",
        "plt.show()"
      ],
      "metadata": {
        "id": "nEjBgbbACsSy"
      },
      "execution_count": null,
      "outputs": []
    },
    {
      "cell_type": "code",
      "source": [
        "df.plot(kind='density', subplots=True, layout=(4, 3), figsize=(15, 10), sharex=False)\n",
        "plt.suptitle(\"Density Plots of Numerical Features\", y=1.02)\n",
        "plt.tight_layout()\n",
        "plt.show()"
      ],
      "metadata": {
        "id": "F47BALy7CsQa"
      },
      "execution_count": null,
      "outputs": []
    },
    {
      "cell_type": "code",
      "source": [
        "plt.figure(figsize=(10, 8))\n",
        "sns.heatmap(df.select_dtypes(include=np.number).corr(), annot=True, cmap='coolwarm', fmt=\".2f\")\n",
        "plt.title(\"Correlation Heatmap\")\n",
        "plt.show()"
      ],
      "metadata": {
        "id": "VMdkGqlzCsN5"
      },
      "execution_count": null,
      "outputs": []
    },
    {
      "cell_type": "code",
      "source": [
        "numerical_cols = df.select_dtypes(include=np.number).columns.tolist()\n",
        "\n",
        "plt.figure(figsize=(15, 10))\n",
        "for i, col in enumerate(numerical_cols):\n",
        "    plt.subplot(len(numerical_cols)//3 + 1, 3, i + 1)\n",
        "    sns.boxplot(y=df[col])\n",
        "    plt.title(f'Box Plot of {col}')\n",
        "plt.tight_layout()\n",
        "plt.show()"
      ],
      "metadata": {
        "id": "nsDBKEd4CsLi"
      },
      "execution_count": null,
      "outputs": []
    },
    {
      "cell_type": "code",
      "source": [
        "def remove_outliers_iqr_all(df):\n",
        "    df_cleaned = df.copy()\n",
        "    numerical_cols = df.select_dtypes(include=np.number).columns.tolist()\n",
        "\n",
        "    for col in numerical_cols:\n",
        "        Q1 = df_cleaned[col].quantile(0.25)\n",
        "        Q3 = df_cleaned[col].quantile(0.75)\n",
        "        IQR = Q3 - Q1\n",
        "        lower_bound = Q1 - 1.5 * IQR\n",
        "        upper_bound = Q3 + 1.5 * IQR\n",
        "\n",
        "        df_cleaned = df_cleaned[(df_cleaned[col] >= lower_bound) & (df_cleaned[col] <= upper_bound)]\n",
        "\n",
        "    return df_cleaned\n",
        "\n",
        "df_cleaned_all = remove_outliers_iqr_all(df.copy())\n",
        "\n",
        "print(f\"Original DataFrame shape: {df.shape}\")\n",
        "print(f\"DataFrame shape after removing outliers from all numerical columns: {df_cleaned_all.shape}\")"
      ],
      "metadata": {
        "id": "AtvWc6rXDRaa"
      },
      "execution_count": null,
      "outputs": []
    },
    {
      "cell_type": "code",
      "source": [
        "x = df.drop('Profit', axis=1)\n",
        "y = df['Profit']"
      ],
      "metadata": {
        "id": "3l7LlJtGDRYK"
      },
      "execution_count": null,
      "outputs": []
    },
    {
      "cell_type": "code",
      "source": [
        "categorical_cols = ['Product'] if 'Product' in x.columns else []\n",
        "numerical_cols = x.select_dtypes(include=['float64', 'int64']).columns.tolist()"
      ],
      "metadata": {
        "id": "CiNgyFHnDRV5"
      },
      "execution_count": null,
      "outputs": []
    },
    {
      "cell_type": "code",
      "source": [
        "preprocessor = ColumnTransformer(\n",
        "    transformers=[\n",
        "        ('cat', OneHotEncoder(handle_unknown='ignore', drop='first'), categorical_cols),\n",
        "        ('num', StandardScaler(), numerical_cols)\n",
        "    ],\n",
        "    remainder='passthrough'\n",
        ")"
      ],
      "metadata": {
        "id": "er5KahlWDRTq"
      },
      "execution_count": null,
      "outputs": []
    },
    {
      "cell_type": "code",
      "source": [
        "x_train_raw, x_test_raw, y_train, y_test = train_test_split(x, y, test_size=0.2, random_state=42)"
      ],
      "metadata": {
        "id": "7kWpPUKJDRQ5"
      },
      "execution_count": null,
      "outputs": []
    },
    {
      "cell_type": "code",
      "source": [
        "def evaluate_model(name, model, x_test, y_test):\n",
        "    predictions = model.predict(x_test)\n",
        "\n",
        "    mse = mean_squared_error(y_test, predictions)\n",
        "    rmse = np.sqrt(mse)\n",
        "    mae = mean_absolute_error(y_test, predictions)\n",
        "    r2 = r2_score(y_test, predictions)\n",
        "\n",
        "    print(f\"Metrics for {name}\")\n",
        "    print(f\"Mean Squared Error (MSE)      : {mse:.4f}\")\n",
        "    print(f\"Root Mean Squared Error (RMSE) : {rmse:.4f}\")\n",
        "    print(f\"Mean Absolute Error (MAE)     : {mae:.4f}\")\n",
        "    print(f\"R-squared (R2)                : {r2:.4f}\")\n",
        "    print(\"------------------------\")\n",
        "\n",
        "    return {\n",
        "        \"Model\": name,\n",
        "        \"MSE\": mse,\n",
        "        \"RMSE\": rmse,\n",
        "        \"MAE\": mae,\n",
        "        \"R2\": r2\n",
        "    }\n",
        "\n",
        "metrics = []"
      ],
      "metadata": {
        "id": "8lBuGsXeDRPC"
      },
      "execution_count": null,
      "outputs": []
    },
    {
      "cell_type": "code",
      "source": [
        "pipeline_lr = Pipeline([('preprocessor', preprocessor), ('Linearregressor', LinearRegression())])\n",
        "pipeline_lr.fit(x_train_raw, y_train)\n",
        "metrics.append(evaluate_model(\"Linear Regression\", pipeline_lr, x_test_raw, y_test))"
      ],
      "metadata": {
        "id": "Sw_A0JzFDRMS"
      },
      "execution_count": null,
      "outputs": []
    },
    {
      "cell_type": "code",
      "source": [
        "y_pred_lr = pipeline_lr.predict(x_test_raw)\n",
        "residuals_lr = y_test - y_pred_lr\n",
        "\n",
        "plt.figure(figsize=(8, 6))\n",
        "sns.histplot(residuals_lr, kde=True)\n",
        "plt.title('Residuals Distribution for Linear Regression')\n",
        "plt.xlabel('Residuals')\n",
        "plt.ylabel('Frequency')\n",
        "plt.show()\n",
        "\n",
        "plt.figure(figsize=(8, 6))\n",
        "plt.scatter(y_pred_lr, residuals_lr, alpha=0.7)\n",
        "plt.axhline(y=0, color='r', linestyle='--')\n",
        "plt.xlabel('Predicted Profit')\n",
        "plt.ylabel('Residuals')\n",
        "plt.title('Residuals vs. Predicted for Linear Regression')\n",
        "plt.show()"
      ],
      "metadata": {
        "id": "mwoL8A2vDRJx"
      },
      "execution_count": null,
      "outputs": []
    },
    {
      "cell_type": "code",
      "source": [
        "pipeline_dt = Pipeline([('preprocessor', preprocessor), ('DecisionTreeRegressor', DecisionTreeRegressor())])\n",
        "pipeline_dt.fit(x_train_raw, y_train)\n",
        "metrics.append(evaluate_model(\"DecisionTreeRegressor (Before Tuning)\", pipeline_dt, x_test_raw, y_test))"
      ],
      "metadata": {
        "id": "15pIUXRpDRHT"
      },
      "execution_count": null,
      "outputs": []
    },
    {
      "cell_type": "code",
      "source": [
        "y_pred_dt = pipeline_dt.predict(x_test_raw)\n",
        "residuals_dt = y_test - y_pred_dt\n",
        "\n",
        "plt.figure(figsize=(8, 6))\n",
        "sns.histplot(residuals_dt, kde=True)\n",
        "plt.title('Residuals Distribution for DecisionTreeRegressor')\n",
        "plt.xlabel('Residuals')\n",
        "plt.ylabel('Frequency')\n",
        "plt.show()\n",
        "\n",
        "plt.figure(figsize=(8, 6))\n",
        "plt.scatter(y_pred_dt, residuals_dt, alpha=0.7)\n",
        "plt.axhline(y=0, color='r', linestyle='--')\n",
        "plt.xlabel('Predicted Profit')\n",
        "plt.ylabel('Residuals')\n",
        "plt.title('Residuals vs. Predicted for DecisionTreeRegressor')\n",
        "plt.show()"
      ],
      "metadata": {
        "id": "YoW3okWwDREy"
      },
      "execution_count": null,
      "outputs": []
    },
    {
      "cell_type": "code",
      "source": [
        "pipeline_rf = Pipeline([('preprocessor', preprocessor), ('RandomForestRegressor', RandomForestRegressor())])\n",
        "pipeline_rf.fit(x_train_raw, y_train)\n",
        "metrics.append(evaluate_model(\"RandomForestRegressor (Before Tuning)\", pipeline_rf, x_test_raw, y_test))"
      ],
      "metadata": {
        "id": "tfNOS7C6DnLE"
      },
      "execution_count": null,
      "outputs": []
    },
    {
      "cell_type": "code",
      "source": [
        "y_pred_rf = pipeline_rf.predict(x_test_raw)\n",
        "residuals_rf = y_test - y_pred_rf\n",
        "\n",
        "plt.figure(figsize=(8, 6))\n",
        "sns.histplot(residuals_rf, kde=True)\n",
        "plt.title('Residuals Distribution for RandomForestRegressor')\n",
        "plt.xlabel('Residuals')\n",
        "plt.ylabel('Frequency')\n",
        "plt.show()\n",
        "\n",
        "plt.figure(figsize=(8, 6))\n",
        "plt.scatter(y_pred_rf, residuals_rf, alpha=0.7)\n",
        "plt.axhline(y=0, color='r', linestyle='--')\n",
        "plt.xlabel('Predicted Profit')\n",
        "plt.ylabel('Residuals')\n",
        "plt.title('Residuals vs. Predicted for RandomForestRegressor')\n",
        "plt.show()"
      ],
      "metadata": {
        "id": "WpETvr7fDnG6"
      },
      "execution_count": null,
      "outputs": []
    },
    {
      "cell_type": "code",
      "source": [
        "pipeline_svr = Pipeline([('preprocessor', preprocessor), ('SVR', SVR())])\n",
        "pipeline_svr.fit(x_train_raw, y_train)\n",
        "metrics.append(evaluate_model(\"SVR (Before Tuning)\", pipeline_svr, x_test_raw, y_test))"
      ],
      "metadata": {
        "id": "cT5v6NWaDnEq"
      },
      "execution_count": null,
      "outputs": []
    },
    {
      "cell_type": "code",
      "source": [
        "y_pred_svr = pipeline_svr.predict(x_test_raw)\n",
        "residuals_svr = y_test - y_pred_svr\n",
        "\n",
        "plt.figure(figsize=(8, 6))\n",
        "sns.histplot(residuals_svr, kde=True)\n",
        "plt.title('Residuals Distribution for SVR')\n",
        "plt.xlabel('Residuals')\n",
        "plt.ylabel('Frequency')\n",
        "plt.show()\n",
        "\n",
        "plt.figure(figsize=(8, 6))\n",
        "plt.scatter(y_pred_svr, residuals_svr, alpha=0.7)\n",
        "plt.axhline(y=0, color='r', linestyle='--')\n",
        "plt.xlabel('Predicted Profit')\n",
        "plt.ylabel('Residuals')\n",
        "plt.title('Residuals vs. Predicted for SVR')\n",
        "plt.show()"
      ],
      "metadata": {
        "id": "2SzEiathDnCK"
      },
      "execution_count": null,
      "outputs": []
    },
    {
      "cell_type": "code",
      "source": [
        "pipeline_knn = Pipeline([('preprocessor', preprocessor), ('KNeighborsRegressor', KNeighborsRegressor())])\n",
        "pipeline_knn.fit(x_train_raw, y_train)\n",
        "metrics.append(evaluate_model(\"KNeighborsRegressor (Before Tuning)\", pipeline_knn, x_test_raw, y_test))"
      ],
      "metadata": {
        "id": "wje2Y6--Dm_q"
      },
      "execution_count": null,
      "outputs": []
    },
    {
      "cell_type": "code",
      "source": [
        "y_pred_knn = pipeline_knn.predict(x_test_raw)\n",
        "residuals_knn = y_test - y_pred_knn\n",
        "\n",
        "plt.figure(figsize=(8, 6))\n",
        "sns.histplot(residuals_knn, kde=True)\n",
        "plt.title('Residuals Distribution for KNeighborsRegressor')\n",
        "plt.xlabel('Residuals')\n",
        "plt.ylabel('Frequency')\n",
        "plt.show()\n",
        "\n",
        "plt.figure(figsize=(8, 6))\n",
        "plt.scatter(y_pred_knn, residuals_knn, alpha=0.7)\n",
        "plt.axhline(y=0, color='r', linestyle='--')\n",
        "plt.xlabel('Predicted Profit')\n",
        "plt.ylabel('Residuals')\n",
        "plt.title('Residuals vs. Predicted for KNeighborsRegressor')\n",
        "plt.show()"
      ],
      "metadata": {
        "id": "MD27KJdvDm9S"
      },
      "execution_count": null,
      "outputs": []
    },
    {
      "cell_type": "code",
      "source": [
        "fig, ax = plt.subplots(figsize=(12, 8))\n",
        "bar_width = 0.15\n",
        "df_metrics = pd.DataFrame(metrics)\n",
        "bar_positions = [i for i in range(len(df_metrics[\"Model\"]))]\n",
        "\n",
        "regression_metrics = [\"MSE\", \"RMSE\", \"MAE\", \"R2\"]\n",
        "\n",
        "for i, metric in enumerate(regression_metrics):\n",
        "    ax.bar([p + bar_width * i for p in bar_positions], df_metrics[metric], width=bar_width, label=metric)\n",
        "\n",
        "ax.set_xlabel('Models')\n",
        "ax.set_ylabel('Scores')\n",
        "ax.set_title('Performance Metrics for Different Models')\n",
        "ax.set_xticks([p + bar_width * (len(regression_metrics) - 1) / 2 for p in bar_positions])\n",
        "ax.set_xticklabels(df_metrics[\"Model\"], rotation=45, ha='right')\n",
        "ax.legend()\n",
        "\n",
        "plt.tight_layout()\n",
        "plt.show()"
      ],
      "metadata": {
        "id": "A3378yaIDm6p"
      },
      "execution_count": null,
      "outputs": []
    },
    {
      "cell_type": "code",
      "source": [
        "models = {\n",
        "    'LinearRegression': {\n",
        "        'model': LinearRegression(),\n",
        "        'params': {}\n",
        "    },\n",
        "    'DecisionTreeRegressor': {\n",
        "        'model': DecisionTreeRegressor(random_state=42),\n",
        "        'params': {\n",
        "            'max_depth': [None, 3, 5, 10],\n",
        "            'min_samples_split': [2, 5, 10]\n",
        "        }\n",
        "    },\n",
        "    'RandomForestRegressor': {\n",
        "        'model': RandomForestRegressor(random_state=42),\n",
        "        'params': {\n",
        "            'n_estimators': [50, 100, 200],\n",
        "            'max_depth': [None, 5, 10],\n",
        "            'min_samples_split': [2, 5]\n",
        "        }\n",
        "    },\n",
        "    'SVR': {\n",
        "        'model': SVR(),\n",
        "        'params': {\n",
        "            'kernel': ['linear', 'rbf'],\n",
        "            'C': [0.1, 1, 10],\n",
        "            'epsilon': [0.1, 0.2, 0.5]\n",
        "        }\n",
        "    },\n",
        "    'KNeighborsRegressor': {\n",
        "        'model': KNeighborsRegressor(),\n",
        "        'params': {\n",
        "            'n_neighbors': [3, 5, 7],\n",
        "            'weights': ['uniform', 'distance'],\n",
        "            'p': [1, 2]\n",
        "        }\n",
        "    }\n",
        "}"
      ],
      "metadata": {
        "id": "6eSICPWsDzCy"
      },
      "execution_count": null,
      "outputs": []
    },
    {
      "cell_type": "code",
      "source": [
        "best_models = {}\n",
        "\n",
        "for name, mp in models.items():\n",
        "    print(f\"\\nTraining and tuning {name}...\")\n",
        "\n",
        "    pipe = Pipeline([\n",
        "        ('preprocessor', preprocessor),\n",
        "        ('regressor', mp['model'])\n",
        "    ])\n",
        "\n",
        "    grid = GridSearchCV(pipe,\n",
        "                        param_grid={'regressor__' + key: val for key, val in mp['params'].items()},\n",
        "                        cv=5, scoring='neg_mean_squared_error', n_jobs=-1)\n",
        "    grid.fit(x_train_raw, y_train)\n",
        "\n",
        "    best_models[name] = grid.best_estimator_\n",
        "    print(f\"Best parameters for {name}: {grid.best_params_}\")\n",
        "\n",
        "    y_pred = grid.predict(x_test_raw)\n",
        "\n",
        "    r2 = r2_score(y_test, y_pred)\n",
        "    mae = mean_absolute_error(y_test, y_pred)\n",
        "    mse = mean_squared_error(y_test, y_pred)\n",
        "    rmse = np.sqrt(mse)\n",
        "\n",
        "    print(f\"{name} Performance on Test Data:\")\n",
        "    print(f\"R²: {r2:.4f}\")\n",
        "    print(f\"MAE: {mae:.4f}\")\n",
        "    print(f\"MSE: {mse:.4f}\")\n",
        "    print(f\"RMSE: {rmse:.4f}\")\n",
        "\n",
        "    plt.figure(figsize=(6, 4))\n",
        "    plt.scatter(y_test, y_pred, alpha=0.7)\n",
        "    plt.plot([y.min(), y.max()], [y.min(), y.max()], 'r--')\n",
        "    plt.xlabel('Actual Profit')\n",
        "    plt.ylabel('Predicted Profit')\n",
        "    plt.title(f'{name} - Actual vs Predicted Profit')\n",
        "    plt.show()"
      ],
      "metadata": {
        "id": "-V63nzTpDzAK"
      },
      "execution_count": null,
      "outputs": []
    },
    {
      "cell_type": "code",
      "source": [
        "reg_setup = setup(data = df, target = 'Profit', session_id=123)"
      ],
      "metadata": {
        "id": "L49viLgZDy9j"
      },
      "execution_count": null,
      "outputs": []
    },
    {
      "cell_type": "code",
      "source": [
        "best_model = compare_models()"
      ],
      "metadata": {
        "id": "1CTY3wPNDy7a"
      },
      "execution_count": null,
      "outputs": []
    },
    {
      "cell_type": "code",
      "source": [
        "from pycaret.regression import evaluate_model"
      ],
      "metadata": {
        "id": "y_54wA9sDy46"
      },
      "execution_count": null,
      "outputs": []
    },
    {
      "cell_type": "code",
      "source": [
        "evaluate_model(best_model)"
      ],
      "metadata": {
        "id": "W1xjEibeDy2R"
      },
      "execution_count": null,
      "outputs": []
    },
    {
      "cell_type": "code",
      "source": [],
      "metadata": {
        "id": "fll7ng5BECGC"
      },
      "execution_count": null,
      "outputs": []
    }
  ]
}